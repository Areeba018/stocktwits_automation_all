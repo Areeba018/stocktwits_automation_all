{
 "cells": [
  {
   "cell_type": "code",
   "execution_count": 55,
   "metadata": {},
   "outputs": [],
   "source": [
    "import asyncio\n",
    "import os\n",
    "import time\n",
    "import random\n",
    "import string\n",
    "import json\n",
    "import traceback\n",
    "\n",
    "from common.database_v2 import make_connection, make_engine\n",
    "from common.gdb_helper_v2 import GDBHelper\n",
    "from common.helpers import MakeTimedUniqueId\n",
    "from modules.application.models import Profile, Account\n",
    "\n",
    "from stocktwits.stocktwits import Stocktwits"
   ]
  },
  {
   "cell_type": "code",
   "execution_count": 56,
   "metadata": {},
   "outputs": [
    {
     "name": "stdout",
     "output_type": "stream",
     "text": [
      "start account activity Charming Wolf\n"
     ]
    }
   ],
   "source": [
    "session = make_connection()\n",
    "gdb = GDBHelper(session)\n",
    "\n",
    "query = gdb.query(Account).filter(\n",
    "    Account.created.is_(True),\n",
    "    Account.verified.is_(True),\n",
    "    Profile.status == 'Inactive'\n",
    ").join(\n",
    "    Profile, Account.profile_id == Profile.profile_id\n",
    ").limit(1)\n",
    "account = await gdb.one_or_none(query)\n",
    "\n",
    "if account is None:\n",
    "    print('===> no accounts to start activity')\n",
    "\n",
    "if account is not None:\n",
    "        \n",
    "    print('start account activity', account.fullname)\n",
    "    \n",
    "    profile: Profile = await gdb.get(Profile, account.profile_id)\n",
    "\n",
    "    # create stocktwits account\n",
    "    app = Stocktwits(\n",
    "        account.account_id, 'Stocktwits', \n",
    "        proxy_type=profile.proxy_type, proxy_address=profile.proxy_address,\n",
    "        username=account.username, password=account.password, fullname=account.fullname, \n",
    "        avatar=profile.avatar, bio=profile.bio)\n",
    "\n",
    "    await gdb.close()\n",
    "\n"
   ]
  },
  {
   "cell_type": "code",
   "execution_count": 57,
   "metadata": {},
   "outputs": [
    {
     "name": "stdout",
     "output_type": "stream",
     "text": [
      "StockTwits login page opened successfully.\n",
      "Username entered.\n"
     ]
    },
    {
     "name": "stderr",
     "output_type": "stream",
     "text": [
      "/Users/logixsy/Projects/automation/selenium-server/.venv2/lib/python3.10/site-packages/selenium_driverless/types/deserialize.py:175: UserWarning: got execution_context_id and unique_context=True, defaulting to execution_context_id\n",
      "  warnings.warn(\"got execution_context_id and unique_context=True, defaulting to execution_context_id\")\n"
     ]
    },
    {
     "name": "stdout",
     "output_type": "stream",
     "text": [
      "Password entered.\n",
      "Login button clicked.\n",
      "Current URL after login: https://stocktwits.com/\n",
      "Login successful\n"
     ]
    }
   ],
   "source": [
    "await app.initialize()\n",
    "\n",
    "login_url = \"https://stocktwits.com/signin\"\n",
    "await app.login(login_url)"
   ]
  },
  {
   "cell_type": "code",
   "execution_count": 44,
   "metadata": {},
   "outputs": [
    {
     "name": "stdout",
     "output_type": "stream",
     "text": [
      "Searching for ticker: GOOGL\n"
     ]
    }
   ],
   "source": [
    "search_bar = await app.driver.find_element(\"xpath\", \"//input[@name='desktopSearch' and @placeholder='Search stocks, crypto, and people']\", timeout=60)\n",
    "await search_bar.click()\n",
    "\n",
    "ticker_to_search = 'BURU'\n",
    "print(f\"Searching for ticker: {ticker_to_search}\")\n",
    "await search_bar.send_keys(ticker_to_search)\n",
    "\n",
    "result_element = await app.driver.find_element(\"xpath\", \"//div[contains(@class, 'List_list__VdL2T')]//div[contains(@class, 'Item_item__CUnwa')]\", timeout=20)\n",
    "await result_element.click()"
   ]
  },
  {
   "cell_type": "code",
   "execution_count": null,
   "metadata": {},
   "outputs": [],
   "source": []
  },
  {
   "cell_type": "code",
   "execution_count": 59,
   "metadata": {},
   "outputs": [
    {
     "name": "stdout",
     "output_type": "stream",
     "text": [
      "watchlist button text: Watch\n"
     ]
    }
   ],
   "source": [
    "\n",
    "cond1 = \"//div[contains(concat(' ', normalize-space(@class), ' '), ' WatchButton_container')]\"\n",
    "cond2 = \"//button[contains(concat(' ', normalize-space(@class), ' '), ' WatchButton_button')]\"\n",
    "watchlist_button = await app.driver.find_element(\"xpath\", f\"{cond1}{cond2}\", timeout=10)\n",
    "\n",
    "button_text = await watchlist_button.text\n",
    "button_text = button_text.strip()\n",
    "print(f\"watchlist button text: {button_text}\")\n"
   ]
  },
  {
   "cell_type": "code",
   "execution_count": 52,
   "metadata": {},
   "outputs": [
    {
     "name": "stdout",
     "output_type": "stream",
     "text": [
      "click to add to watchlist\n"
     ]
    }
   ],
   "source": [
    "button_text = (await watchlist_button.text).strip()\n",
    "if button_text == 'Watch':\n",
    "    print('click to add to watchlist')\n",
    "    await watchlist_button.click()\n"
   ]
  },
  {
   "cell_type": "code",
   "execution_count": 82,
   "metadata": {},
   "outputs": [
    {
     "name": "stdout",
     "output_type": "stream",
     "text": [
      "Found 89 posts in the current scroll view.\n",
      "Clicked on user: stabbed\n"
     ]
    }
   ],
   "source": [
    "posts = await app.driver.find_elements(\"xpath\", \"//div[contains(concat(' ', normalize-space(@class), ' '), ' StreamMessage_clickable')]\", timeout=10)\n",
    "print(f\"Found {len(posts)} posts in the current scroll view.\")\n",
    "\n",
    "random_post = random.choice(posts)\n",
    "# print(f\"random post: {await random_post.text}\")\n",
    "\n",
    "link_a = await random_post.find_element(\"xpath\", \".//span[starts-with(@class, 'StreamMessage_username')]/..\", timeout=10)\n",
    "await app.driver.execute_script(\"arguments[0].scrollIntoView({block: 'center'});\", link_a, timeout=10)\n",
    "\n",
    "print(f\"Clicked on user: {await link_a.text}\")\n",
    "await link_a.click()\n"
   ]
  },
  {
   "cell_type": "code",
   "execution_count": 85,
   "metadata": {},
   "outputs": [
    {
     "name": "stdout",
     "output_type": "stream",
     "text": [
      "Follow button text: Follow\n"
     ]
    }
   ],
   "source": [
    "cond1 = \"//div[contains(concat(' ', normalize-space(@class), ' '), ' UserPageHeader_actions')]\"\n",
    "cond2 = \"//button[contains(concat(' ', normalize-space(@class), ' '), ' FollowButton_button')]\"\n",
    "follow_button = await app.driver.find_element(\"xpath\", f\"{cond1}{cond2}\", timeout=20)\n",
    "\n",
    "button_text = await follow_button.text\n",
    "button_text = button_text.strip()\n",
    "print(f\"Follow button text: {button_text}\")\n",
    "\n",
    "await follow_button.click()\n"
   ]
  },
  {
   "cell_type": "code",
   "execution_count": 54,
   "metadata": {},
   "outputs": [],
   "source": [
    "\n",
    "logo_element = await app.driver.find_element(\"id\", \"sidebar_logo_id\", timeout=20)\n",
    "await logo_element.click()\n"
   ]
  },
  {
   "cell_type": "code",
   "execution_count": 86,
   "metadata": {},
   "outputs": [],
   "source": [
    "await app.close()"
   ]
  },
  {
   "cell_type": "code",
   "execution_count": null,
   "metadata": {},
   "outputs": [],
   "source": []
  }
 ],
 "metadata": {
  "kernelspec": {
   "display_name": ".venv2",
   "language": "python",
   "name": "python3"
  },
  "language_info": {
   "codemirror_mode": {
    "name": "ipython",
    "version": 3
   },
   "file_extension": ".py",
   "mimetype": "text/x-python",
   "name": "python",
   "nbconvert_exporter": "python",
   "pygments_lexer": "ipython3",
   "version": "3.10.15"
  },
  "orig_nbformat": 4
 },
 "nbformat": 4,
 "nbformat_minor": 2
}
